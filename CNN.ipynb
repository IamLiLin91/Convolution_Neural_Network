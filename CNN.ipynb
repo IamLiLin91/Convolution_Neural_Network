{
 "cells": [
  {
   "cell_type": "markdown",
   "id": "58a572d6",
   "metadata": {},
   "source": [
    "**Qns 1**"
   ]
  },
  {
   "cell_type": "code",
   "execution_count": 1,
   "id": "8d3959a1",
   "metadata": {},
   "outputs": [],
   "source": [
    "import numpy as np # forlinear algebra\n",
    "import matplotlib.pyplot as plt #for plotting things\n",
    "import os\n",
    "\n",
    "# Keras Libraries\n",
    "import keras\n",
    "from keras.models import Sequential\n",
    "from keras.layers import Conv2D\n",
    "from keras.layers import MaxPooling2D\n",
    "from keras.layers import Flatten\n",
    "from keras.layers import Dense\n",
    "from keras.preprocessing.image import ImageDataGenerator, load_img\n",
    "from sklearn.metrics import classification_report, confusion_matrix, ConfusionMatrixDisplay"
   ]
  },
  {
   "cell_type": "code",
   "execution_count": 2,
   "id": "89e8effe",
   "metadata": {},
   "outputs": [
    {
     "name": "stdout",
     "output_type": "stream",
     "text": [
      "['test', 'train', 'val']\n"
     ]
    }
   ],
   "source": [
    "mainDIR = os.listdir('./CNN Practicum')\n",
    "print(mainDIR)"
   ]
  },
  {
   "cell_type": "code",
   "execution_count": 3,
   "id": "394843e6",
   "metadata": {},
   "outputs": [],
   "source": [
    "train_folder= './CNN Practicum/train/'\n",
    "val_folder = './CNN Practicum/val/'\n",
    "test_folder = './CNN Practicum/test/'"
   ]
  },
  {
   "cell_type": "code",
   "execution_count": 5,
   "id": "824998f4",
   "metadata": {},
   "outputs": [
    {
     "name": "stdout",
     "output_type": "stream",
     "text": [
      "Found 540 images belonging to 2 classes.\n",
      "Found 180 images belonging to 2 classes.\n",
      "Found 300 images belonging to 2 classes.\n"
     ]
    }
   ],
   "source": [
    "# Fitting the CNN to the images\n",
    "# The function ImageDataGenerator augments your image by iterating through image as your CNN is getting ready to process that image\n",
    "\n",
    "train_datagen = ImageDataGenerator(rescale = 1./255,\n",
    "                                   shear_range = 0.2,\n",
    "                                   zoom_range = 0.2,\n",
    "                                   horizontal_flip = True)\n",
    "\n",
    "test_datagen = ImageDataGenerator(rescale = 1./255)  #Image normalization.\n",
    "\n",
    "training_set = train_datagen.flow_from_directory('../Pract_2/CNN Practicum/train/',\n",
    "                                                 target_size = (64, 64),\n",
    "                                                 color_mode = 'grayscale',\n",
    "                                                 batch_size = 32,\n",
    "                                                 class_mode = 'categorical')\n",
    "\n",
    "validation_generator = test_datagen.flow_from_directory('../Pract_2/CNN Practicum/val/',\n",
    "    target_size=(64, 64),  \n",
    "    color_mode = 'grayscale',                                                  \n",
    "    batch_size=32,\n",
    "    class_mode='categorical')\n",
    "\n",
    "test_set = test_datagen.flow_from_directory('../Pract_2/CNN Practicum/test/',\n",
    "                                            target_size = (64, 64),\n",
    "                                            shuffle=False,\n",
    "                                            color_mode = 'grayscale',\n",
    "                                            batch_size = 32,\n",
    "                                            class_mode = 'categorical')"
   ]
  },
  {
   "cell_type": "markdown",
   "id": "4fcacb66",
   "metadata": {},
   "source": [
    "**Qns 2**"
   ]
  },
  {
   "cell_type": "code",
   "execution_count": 4,
   "id": "18cd947c",
   "metadata": {},
   "outputs": [],
   "source": [
    "# let's build the CNN model\n",
    "\n",
    "cnn = Sequential()\n",
    "\n",
    "#Convolution\n",
    "cnn.add(Conv2D(32, (3, 3), activation=\"relu\", input_shape=(64, 64, 1)))\n",
    "\n",
    "#Pooling\n",
    "cnn.add(MaxPooling2D(pool_size = (2, 2)))\n",
    "\n",
    "# 2nd Convolution\n",
    "cnn.add(Conv2D(32, (3, 3), activation=\"relu\"))\n",
    "\n",
    "# 2nd Pooling layer\n",
    "cnn.add(MaxPooling2D(pool_size = (2, 2)))\n",
    "\n",
    "# Flatten the layer\n",
    "cnn.add(Flatten())\n",
    "\n",
    "# Fully Connected Layers\n",
    "cnn.add(Dense(activation = 'relu', units = 128))\n",
    "cnn.add(Dense(activation = 'softmax', units = 2))\n",
    "\n",
    "\n",
    "# Compile the Neural network\n",
    "cnn.compile(optimizer = 'adam', loss = 'categorical_crossentropy', metrics = ['accuracy'])"
   ]
  },
  {
   "cell_type": "code",
   "execution_count": 6,
   "id": "fb7dabdd",
   "metadata": {},
   "outputs": [
    {
     "name": "stdout",
     "output_type": "stream",
     "text": [
      "Model: \"sequential\"\n",
      "_________________________________________________________________\n",
      " Layer (type)                Output Shape              Param #   \n",
      "=================================================================\n",
      " conv2d (Conv2D)             (None, 62, 62, 32)        320       \n",
      "                                                                 \n",
      " max_pooling2d (MaxPooling2D  (None, 31, 31, 32)       0         \n",
      " )                                                               \n",
      "                                                                 \n",
      " conv2d_1 (Conv2D)           (None, 29, 29, 32)        9248      \n",
      "                                                                 \n",
      " max_pooling2d_1 (MaxPooling  (None, 14, 14, 32)       0         \n",
      " 2D)                                                             \n",
      "                                                                 \n",
      " flatten (Flatten)           (None, 6272)              0         \n",
      "                                                                 \n",
      " dense (Dense)               (None, 128)               802944    \n",
      "                                                                 \n",
      " dense_1 (Dense)             (None, 2)                 258       \n",
      "                                                                 \n",
      "=================================================================\n",
      "Total params: 812,770\n",
      "Trainable params: 812,770\n",
      "Non-trainable params: 0\n",
      "_________________________________________________________________\n"
     ]
    }
   ],
   "source": [
    "cnn.summary()"
   ]
  },
  {
   "cell_type": "code",
   "execution_count": 7,
   "id": "31c9e517",
   "metadata": {},
   "outputs": [
    {
     "name": "stdout",
     "output_type": "stream",
     "text": [
      "Epoch 1/30\n",
      "17/17 [==============================] - 7s 393ms/step - loss: 0.7399 - accuracy: 0.5019 - val_loss: 0.6914 - val_accuracy: 0.5611\n",
      "Epoch 2/30\n",
      "17/17 [==============================] - 4s 223ms/step - loss: 0.6936 - accuracy: 0.4889 - val_loss: 0.6917 - val_accuracy: 0.5222\n",
      "Epoch 3/30\n",
      "17/17 [==============================] - 4s 214ms/step - loss: 0.6929 - accuracy: 0.5241 - val_loss: 0.6908 - val_accuracy: 0.5556\n",
      "Epoch 4/30\n",
      "17/17 [==============================] - 4s 214ms/step - loss: 0.6931 - accuracy: 0.5148 - val_loss: 0.6917 - val_accuracy: 0.5222\n",
      "Epoch 5/30\n",
      "17/17 [==============================] - 4s 220ms/step - loss: 0.6929 - accuracy: 0.4815 - val_loss: 0.6886 - val_accuracy: 0.5167\n",
      "Epoch 6/30\n",
      "17/17 [==============================] - 4s 215ms/step - loss: 0.6916 - accuracy: 0.4815 - val_loss: 0.6849 - val_accuracy: 0.5500\n",
      "Epoch 7/30\n",
      "17/17 [==============================] - 4s 206ms/step - loss: 0.6918 - accuracy: 0.5093 - val_loss: 0.6985 - val_accuracy: 0.4722\n",
      "Epoch 8/30\n",
      "17/17 [==============================] - 4s 220ms/step - loss: 0.6907 - accuracy: 0.5333 - val_loss: 0.6753 - val_accuracy: 0.5611\n",
      "Epoch 9/30\n",
      "17/17 [==============================] - 4s 221ms/step - loss: 0.6888 - accuracy: 0.5241 - val_loss: 0.6733 - val_accuracy: 0.6333\n",
      "Epoch 10/30\n",
      "17/17 [==============================] - 4s 212ms/step - loss: 0.6874 - accuracy: 0.5463 - val_loss: 0.7040 - val_accuracy: 0.5667\n",
      "Epoch 11/30\n",
      "17/17 [==============================] - 4s 219ms/step - loss: 0.6884 - accuracy: 0.5074 - val_loss: 0.7832 - val_accuracy: 0.5889\n",
      "Epoch 12/30\n",
      "17/17 [==============================] - 4s 219ms/step - loss: 0.6738 - accuracy: 0.5463 - val_loss: 0.7139 - val_accuracy: 0.6389\n",
      "Epoch 13/30\n",
      "17/17 [==============================] - 4s 219ms/step - loss: 0.6659 - accuracy: 0.5519 - val_loss: 0.8251 - val_accuracy: 0.6333\n",
      "Epoch 14/30\n",
      "17/17 [==============================] - 4s 219ms/step - loss: 0.6682 - accuracy: 0.6111 - val_loss: 0.7600 - val_accuracy: 0.6444\n",
      "Epoch 15/30\n",
      "17/17 [==============================] - 4s 217ms/step - loss: 0.6468 - accuracy: 0.5870 - val_loss: 0.8442 - val_accuracy: 0.6111\n",
      "Epoch 16/30\n",
      "17/17 [==============================] - 4s 219ms/step - loss: 0.6297 - accuracy: 0.6481 - val_loss: 0.7389 - val_accuracy: 0.6556\n",
      "Epoch 17/30\n",
      "17/17 [==============================] - 4s 215ms/step - loss: 0.6201 - accuracy: 0.6759 - val_loss: 0.9206 - val_accuracy: 0.6333\n",
      "Epoch 18/30\n",
      "17/17 [==============================] - 4s 210ms/step - loss: 0.5971 - accuracy: 0.7130 - val_loss: 0.7159 - val_accuracy: 0.7167\n",
      "Epoch 19/30\n",
      "17/17 [==============================] - 4s 214ms/step - loss: 0.5751 - accuracy: 0.7074 - val_loss: 0.9695 - val_accuracy: 0.7167\n",
      "Epoch 20/30\n",
      "17/17 [==============================] - 4s 214ms/step - loss: 0.5536 - accuracy: 0.7241 - val_loss: 0.7573 - val_accuracy: 0.7333\n",
      "Epoch 21/30\n",
      "17/17 [==============================] - 4s 216ms/step - loss: 0.4826 - accuracy: 0.7759 - val_loss: 0.7544 - val_accuracy: 0.7278\n",
      "Epoch 22/30\n",
      "17/17 [==============================] - 4s 221ms/step - loss: 0.4832 - accuracy: 0.7630 - val_loss: 0.8493 - val_accuracy: 0.7167\n",
      "Epoch 23/30\n",
      "17/17 [==============================] - 4s 220ms/step - loss: 0.4874 - accuracy: 0.7759 - val_loss: 0.8593 - val_accuracy: 0.7167\n",
      "Epoch 24/30\n",
      "17/17 [==============================] - 4s 210ms/step - loss: 0.4501 - accuracy: 0.8185 - val_loss: 0.9027 - val_accuracy: 0.7056\n",
      "Epoch 25/30\n",
      "17/17 [==============================] - 4s 203ms/step - loss: 0.3718 - accuracy: 0.8630 - val_loss: 0.8264 - val_accuracy: 0.7611\n",
      "Epoch 26/30\n",
      "17/17 [==============================] - 4s 225ms/step - loss: 0.3711 - accuracy: 0.8407 - val_loss: 1.0013 - val_accuracy: 0.7611\n",
      "Epoch 27/30\n",
      "17/17 [==============================] - 4s 198ms/step - loss: 0.3161 - accuracy: 0.8907 - val_loss: 1.0020 - val_accuracy: 0.7611\n",
      "Epoch 28/30\n",
      "17/17 [==============================] - 4s 220ms/step - loss: 0.3131 - accuracy: 0.8741 - val_loss: 1.0300 - val_accuracy: 0.7167\n",
      "Epoch 29/30\n",
      "17/17 [==============================] - 4s 220ms/step - loss: 0.2813 - accuracy: 0.9000 - val_loss: 0.9339 - val_accuracy: 0.7778\n",
      "Epoch 30/30\n",
      "17/17 [==============================] - 4s 220ms/step - loss: 0.2373 - accuracy: 0.9204 - val_loss: 1.1281 - val_accuracy: 0.7500\n"
     ]
    }
   ],
   "source": [
    "cnn_model = cnn.fit(training_set,\n",
    "        steps_per_epoch = len(training_set),\n",
    "        epochs = 30,\n",
    "        validation_data = validation_generator)"
   ]
  },
  {
   "cell_type": "code",
   "execution_count": 8,
   "id": "f66e32a7",
   "metadata": {},
   "outputs": [
    {
     "name": "stdout",
     "output_type": "stream",
     "text": [
      "10/10 [==============================] - 3s 336ms/step - loss: 0.1466 - accuracy: 0.9533\n"
     ]
    }
   ],
   "source": [
    "test_accu = cnn.evaluate(test_set,steps=10)"
   ]
  },
  {
   "cell_type": "code",
   "execution_count": 9,
   "id": "f2b59f51",
   "metadata": {},
   "outputs": [
    {
     "name": "stdout",
     "output_type": "stream",
     "text": [
      "The testing accuracy is : 95.333331823349 %\n"
     ]
    }
   ],
   "source": [
    "print('The testing accuracy is :',test_accu[1]*100, '%')"
   ]
  },
  {
   "cell_type": "code",
   "execution_count": 10,
   "id": "608d0c00",
   "metadata": {},
   "outputs": [],
   "source": [
    "Y_pred_test = cnn.predict(test_set)\n",
    "y_pred_test = np.argmax(Y_pred_test, axis=1)\n",
    "\n",
    "Y_pred = cnn.predict(validation_generator)\n",
    "y_pred = np.argmax(Y_pred, axis=1)\n",
    "\n",
    "Y_pred_train = cnn.predict(training_set)\n",
    "y_pred_train = np.argmax(Y_pred_train, axis=1)"
   ]
  },
  {
   "cell_type": "code",
   "execution_count": 11,
   "id": "cc3f86e0",
   "metadata": {},
   "outputs": [
    {
     "data": {
      "text/plain": [
       "Text(0.5, 1.0, 'Train - Accuracy')"
      ]
     },
     "execution_count": 11,
     "metadata": {},
     "output_type": "execute_result"
    },
    {
     "data": {
      "image/png": "[encoded data removed]",
      "text/plain": [
       "<Figure size 720x720 with 2 Axes>"
      ]
     },
     "metadata": {
      "needs_background": "light"
     },
     "output_type": "display_data"
    }
   ],
   "source": [
    "plt.figure(figsize=(10, 10))\n",
    "\n",
    "plt.subplot(2, 2, 1)\n",
    "plt.plot(cnn_model.history['loss'], label='Loss')\n",
    "plt.plot(cnn_model.history['val_loss'], label='Validation Loss')\n",
    "plt.legend()\n",
    "plt.title('Training - Loss Function')\n",
    "\n",
    "plt.subplot(2, 2, 2)\n",
    "plt.plot(cnn_model.history['accuracy'], label='Accuracy')\n",
    "plt.plot(cnn_model.history['val_accuracy'], label='Validation Accuracy')\n",
    "plt.legend()\n",
    "plt.title('Train - Accuracy')"
   ]
  },
  {
   "cell_type": "markdown",
   "id": "bf1947b9",
   "metadata": {},
   "source": [
    "**Qns 3**"
   ]
  },
  {
   "cell_type": "code",
   "execution_count": 12,
   "id": "1d6fcf7f",
   "metadata": {},
   "outputs": [
    {
     "name": "stdout",
     "output_type": "stream",
     "text": [
      "              precision    recall  f1-score   support\n",
      "\n",
      "           0       0.94      0.97      0.95       150\n",
      "           1       0.97      0.93      0.95       150\n",
      "\n",
      "    accuracy                           0.95       300\n",
      "   macro avg       0.95      0.95      0.95       300\n",
      "weighted avg       0.95      0.95      0.95       300\n",
      "\n"
     ]
    }
   ],
   "source": [
    "print(classification_report(test_set.classes, y_pred_test))"
   ]
  },
  {
   "cell_type": "code",
   "execution_count": 13,
   "id": "90c17d89",
   "metadata": {},
   "outputs": [
    {
     "data": {
      "text/plain": [
       "array([[146,   4],\n",
       "       [ 10, 140]], dtype=int64)"
      ]
     },
     "execution_count": 13,
     "metadata": {},
     "output_type": "execute_result"
    }
   ],
   "source": [
    "cm=confusion_matrix(test_set.classes, y_pred_test)\n",
    "cm"
   ]
  },
  {
   "cell_type": "code",
   "execution_count": 14,
   "id": "de2221c7",
   "metadata": {},
   "outputs": [
    {
     "data": {
      "image/png": "[encoded data removed]",
      "text/plain": [
       "<Figure size 432x288 with 2 Axes>"
      ]
     },
     "metadata": {
      "needs_background": "light"
     },
     "output_type": "display_data"
    }
   ],
   "source": [
    "from sklearn.metrics import confusion_matrix, ConfusionMatrixDisplay\n",
    "disp = ConfusionMatrixDisplay(confusion_matrix=cm)\n",
    "disp.plot()\n",
    "plt.show()"
   ]
  },
  {
   "cell_type": "code",
   "execution_count": null,
   "id": "25be40ce",
   "metadata": {},
   "outputs": [],
   "source": []
  }
 ],
 "metadata": {
  "kernelspec": {
   "display_name": "Python 3 (ipykernel)",
   "language": "python",
   "name": "python3"
  },
  "language_info": {
   "codemirror_mode": {
    "name": "ipython",
    "version": 3
   },
   "file_extension": ".py",
   "mimetype": "text/x-python",
   "name": "python",
   "nbconvert_exporter": "python",
   "pygments_lexer": "ipython3",
   "version": "3.9.7"
  }
 },
 "nbformat": 4,
 "nbformat_minor": 5
}
